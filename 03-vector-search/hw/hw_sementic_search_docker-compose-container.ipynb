{
 "cells": [
  {
   "cell_type": "markdown",
   "id": "e7781f02-5925-40c0-89f2-e34ade30b047",
   "metadata": {},
   "source": [
    "# Q1"
   ]
  },
  {
   "cell_type": "code",
   "execution_count": 1,
   "id": "c0e99cc3-895a-478e-8a56-ad66b48f263c",
   "metadata": {},
   "outputs": [
    {
     "data": {
      "text/plain": [
       "948"
      ]
     },
     "execution_count": 1,
     "metadata": {},
     "output_type": "execute_result"
    }
   ],
   "source": [
    "import json\n",
    "\n",
    "with open('documents.json', 'rt') as f_in:\n",
    "    docs_raw = json.load(f_in)\n",
    "\n",
    "documents = []\n",
    "\n",
    "for course_dict in docs_raw:\n",
    "    for doc in course_dict['documents']:\n",
    "        doc['course'] = course_dict['course']\n",
    "        documents.append(doc)\n",
    "\n",
    "len(documents)"
   ]
  },
  {
   "cell_type": "markdown",
   "id": "d5eb1776-7642-47a6-bd1f-f42e3748e1e6",
   "metadata": {},
   "source": [
    "# Q2"
   ]
  },
  {
   "cell_type": "code",
   "execution_count": 2,
   "id": "848db9af-5a70-4a6f-a124-cd4d6c3576d7",
   "metadata": {},
   "outputs": [
    {
     "name": "stderr",
     "output_type": "stream",
     "text": [
      "/usr/local/lib/python3.10/site-packages/tqdm/auto.py:21: TqdmWarning: IProgress not found. Please update jupyter and ipywidgets. See https://ipywidgets.readthedocs.io/en/stable/user_install.html\n",
      "  from .autonotebook import tqdm as notebook_tqdm\n"
     ]
    }
   ],
   "source": [
    "from sentence_transformers import SentenceTransformer"
   ]
  },
  {
   "cell_type": "code",
   "execution_count": 3,
   "id": "f998c75e-3369-43a4-9ac3-2fb5b0f89bfc",
   "metadata": {},
   "outputs": [],
   "source": [
    "model = SentenceTransformer(\"all-MiniLM-L12-v2\")"
   ]
  },
  {
   "cell_type": "markdown",
   "id": "58c2bcbb-8bca-4986-81ad-abf78446f938",
   "metadata": {},
   "source": [
    "# Q3"
   ]
  },
  {
   "cell_type": "markdown",
   "id": "f2f22fa3-ee32-472f-8c96-80f127f4dff8",
   "metadata": {},
   "source": [
    "## Get the dimension of the model embedding"
   ]
  },
  {
   "cell_type": "code",
   "execution_count": 4,
   "id": "c5d4173f-b4e2-475d-9c30-07fc41129939",
   "metadata": {},
   "outputs": [
    {
     "data": {
      "text/plain": [
       "384"
      ]
     },
     "execution_count": 4,
     "metadata": {},
     "output_type": "execute_result"
    }
   ],
   "source": [
    "len(model.encode(\"This is a simple sentence\"))"
   ]
  },
  {
   "cell_type": "code",
   "execution_count": 5,
   "id": "b5bddc75-19e9-430d-ad8b-27dbe3c66c69",
   "metadata": {},
   "outputs": [],
   "source": [
    "#created the dense vector using the pre-trained model\n",
    "operations = []\n",
    "for doc in documents:\n",
    "    # Transforming the title into an embedding using the model\n",
    "    doc[\"question_vector\"] = model.encode(doc[\"question\"]).tolist()\n",
    "    operations.append(doc)"
   ]
  },
  {
   "cell_type": "code",
   "execution_count": 7,
   "id": "bb0b507b-81c8-4080-a4c0-5c34a7f1352e",
   "metadata": {},
   "outputs": [
    {
     "data": {
      "text/plain": [
       "ObjectApiResponse({'name': '131482fb47e1', 'cluster_name': 'docker-cluster', 'cluster_uuid': '0g2kg2DLReOAHnkEN8EtzA', 'version': {'number': '8.4.3', 'build_flavor': 'default', 'build_type': 'docker', 'build_hash': '42f05b9372a9a4a470db3b52817899b99a76ee73', 'build_date': '2022-10-04T07:17:24.662462378Z', 'build_snapshot': False, 'lucene_version': '9.3.0', 'minimum_wire_compatibility_version': '7.17.0', 'minimum_index_compatibility_version': '7.0.0'}, 'tagline': 'You Know, for Search'})"
      ]
     },
     "execution_count": 7,
     "metadata": {},
     "output_type": "execute_result"
    }
   ],
   "source": [
    "from elasticsearch import Elasticsearch\n",
    "es_client = Elasticsearch('http://elasticsearch:9200') \n",
    "\n",
    "es_client.info()"
   ]
  },
  {
   "cell_type": "markdown",
   "id": "524c83a0-a52c-4cd9-a251-2bc67b200bd9",
   "metadata": {},
   "source": [
    "# Q4"
   ]
  },
  {
   "cell_type": "code",
   "execution_count": 8,
   "id": "a6cdcf28-c5f8-435e-acfa-9507a716f20e",
   "metadata": {},
   "outputs": [
    {
     "data": {
      "text/plain": [
       "ObjectApiResponse({'acknowledged': True, 'shards_acknowledged': True, 'index': 'course-questions'})"
      ]
     },
     "execution_count": 8,
     "metadata": {},
     "output_type": "execute_result"
    }
   ],
   "source": [
    "index_settings = {\n",
    "    \"settings\": {\n",
    "        \"number_of_shards\": 1,\n",
    "        \"number_of_replicas\": 0\n",
    "    },\n",
    "    \"mappings\": {\n",
    "        \"properties\": {\n",
    "            \"text\": {\"type\": \"text\"},\n",
    "            \"section\": {\"type\": \"keyword\"},\n",
    "            \"question\": {\"type\": \"text\"},\n",
    "            \"course\": {\"type\": \"keyword\"} ,\n",
    "            \"question_vector\":{\"type\":\"dense_vector\",\"dims\": 384,\"index\":True,\"similarity\": \"cosine\"\n",
    "        },\n",
    "        }\n",
    "    }\n",
    "}\n",
    "\n",
    "index_name = \"course-questions\"\n",
    "\n",
    "es_client.indices.delete(index=index_name, ignore_unavailable=True)\n",
    "es_client.indices.create(index=index_name, body=index_settings)"
   ]
  },
  {
   "cell_type": "code",
   "execution_count": 9,
   "id": "33fd4d8a-b8f1-4558-96cb-c03ad660df92",
   "metadata": {},
   "outputs": [],
   "source": [
    "for doc in operations:\n",
    "    try:\n",
    "        es_client.index(index=index_name, document=doc)\n",
    "    except Exception as e:\n",
    "        print(e)"
   ]
  },
  {
   "cell_type": "markdown",
   "id": "d9d299be-5858-4733-9d5c-3c55c525544c",
   "metadata": {},
   "source": [
    "# Q5"
   ]
  },
  {
   "cell_type": "code",
   "execution_count": 10,
   "id": "d7358fe9-b6cb-4942-90e9-f7ed772bdcb5",
   "metadata": {},
   "outputs": [],
   "source": [
    "search_term = \"how to enrol to course?\"\n",
    "vector_search_term = model.encode(search_term)\n",
    "\n",
    "query = {\n",
    "    \"field\" : \"question_vector\",\n",
    "    \"query_vector\" :  vector_search_term,\n",
    "    \"k\" : 5,\n",
    "    \"num_candidates\" : 10000, \n",
    "}\n",
    "\n",
    "res = es_client.search(index=index_name, knn=query,source=[\"text\",\"section\",\"question\",\"course\"])\n"
   ]
  },
  {
   "cell_type": "code",
   "execution_count": 11,
   "id": "3f8bdb0d-1224-4963-a0cd-534ab8504e34",
   "metadata": {},
   "outputs": [
    {
     "data": {
      "text/plain": [
       "{'_index': 'course-questions',\n",
       " '_id': 'jMWDi5ABvaBxkI-TEnHM',\n",
       " '_score': 0.852048,\n",
       " '_source': {'question': 'Course - What are the prerequisites for this course?',\n",
       "  'course': 'data-engineering-zoomcamp',\n",
       "  'section': 'General course-related questions',\n",
       "  'text': 'GitHub - DataTalksClub data-engineering-zoomcamp#prerequisites'}}"
      ]
     },
     "execution_count": 11,
     "metadata": {},
     "output_type": "execute_result"
    }
   ],
   "source": [
    "res[\"hits\"][\"hits\"][0]"
   ]
  },
  {
   "cell_type": "markdown",
   "id": "2f42203b-4c7b-49a9-878b-2ba6a173124a",
   "metadata": {},
   "source": [
    "# Q6"
   ]
  },
  {
   "cell_type": "code",
   "execution_count": 12,
   "id": "0e679906-4e74-4fa8-84a4-828f400e631f",
   "metadata": {},
   "outputs": [
    {
     "data": {
      "text/plain": [
       "ObjectApiResponse({'course-questions': {'mappings': {'properties': {'course': {'type': 'keyword'}, 'question': {'type': 'text'}, 'question_vector': {'type': 'dense_vector', 'dims': 384, 'index': True, 'similarity': 'cosine'}, 'section': {'type': 'keyword'}, 'text': {'type': 'text'}}}}})"
      ]
     },
     "execution_count": 12,
     "metadata": {},
     "output_type": "execute_result"
    }
   ],
   "source": [
    "es_client.indices.get_mapping(index=index_name)"
   ]
  },
  {
   "cell_type": "code",
   "execution_count": 20,
   "id": "25ea8651-6a5b-4b9d-a06c-0420b27f0cc9",
   "metadata": {},
   "outputs": [],
   "source": [
    "# knn_query = {\n",
    "#     \"field\" : \"text_vector\",\n",
    "#     \"query_vector\" :  vector_search_term,\n",
    "#     \"k\" : 5,\n",
    "#     \"num_candidates\" : 10000\n",
    "# }\n",
    "\n",
    "# response = es_client.search(\n",
    "#     index=index_name,\n",
    "#     query={\n",
    "#         \"match\": {\"section\": \"General course-related questions\"},\n",
    "#     },\n",
    "#     knn=knn_query,\n",
    "#     size=5\n",
    "# )\n",
    "\n",
    "# response[\"hits\"][\"hits\"]"
   ]
  },
  {
   "cell_type": "code",
   "execution_count": 17,
   "id": "af3deff7-9c08-4332-894a-ffc2f12e2382",
   "metadata": {
    "scrolled": true
   },
   "outputs": [
    {
     "name": "stderr",
     "output_type": "stream",
     "text": [
      "/tmp/ipykernel_28/1320525614.py:28: DeprecationWarning: Passing transport options in the API method is deprecated. Use 'Elasticsearch.options()' instead.\n",
      "  es_client.indices.delete(index=index_name, ignore=[400, 404])\n"
     ]
    }
   ],
   "source": [
    "from elasticsearch import Elasticsearch\n",
    "es_client = Elasticsearch('http://elasticsearch:9200') \n",
    "\n",
    "# Assuming 'model.encode' is defined elsewhere and 'operations' is a list of documents to index\n",
    "# from your_model import model\n",
    "# operations = [...]|\n",
    "\n",
    "es_client.info()\n",
    "index_settings = {\n",
    "    \"settings\": {\n",
    "        \"number_of_shards\": 1,\n",
    "        \"number_of_replicas\": 0\n",
    "    },\n",
    "    \"mappings\": {\n",
    "        \"properties\": {\n",
    "            \"text\": {\"type\": \"text\"},\n",
    "            \"section\": {\"type\": \"keyword\"},\n",
    "            \"question\": {\"type\": \"text\"},\n",
    "            \"course\": {\"type\": \"keyword\"},\n",
    "            \"question_vector\": {\"type\": \"dense_vector\", \"dims\": 384}\n",
    "        }\n",
    "    }\n",
    "}\n",
    "\n",
    "index_name = \"course-questions\"\n",
    "\n",
    "# Delete the index if it exists and create a new one with the specified settings\n",
    "es_client.indices.delete(index=index_name, ignore=[400, 404])\n",
    "es_client.indices.create(index=index_name, body=index_settings)\n",
    "\n",
    "# Index documents\n",
    "for doc in operations:\n",
    "    try:\n",
    "        es_client.index(index=index_name, document=doc)\n",
    "    except Exception as e:\n",
    "        print(e)\n",
    "\n",
    "# Encode the search term to a vector\n",
    "search_term = \"how to enrol to course?\"\n",
    "vector_search_term = model.encode(search_term)\n",
    "\n",
    "# Construct the KNN query using a script score query\n",
    "knn_query = {\n",
    "    \"query\": {\n",
    "        \"script_score\": {\n",
    "            \"query\": {\"match_all\": {}},\n",
    "            \"script\": {\n",
    "                \"source\": \"cosineSimilarity(params.query_vector, 'question_vector') + 1.0\",\n",
    "                \"params\": {\"query_vector\": vector_search_term}\n",
    "            }\n",
    "        }\n",
    "    },\n",
    "    \"_source\": [\"text\", \"section\", \"question\", \"course\"],\n",
    "    \"size\": 5\n",
    "}\n",
    "\n",
    "# Execute the search query\n",
    "response = es_client.search(index=index_name, body=knn_query)\n",
    "\n",
    "# Print the hits\n"
   ]
  },
  {
   "cell_type": "code",
   "execution_count": 18,
   "id": "e3f03fd0-1bec-460d-8b78-66b36295c8b1",
   "metadata": {},
   "outputs": [
    {
     "data": {
      "text/plain": [
       "'General course-related questions'"
      ]
     },
     "execution_count": 18,
     "metadata": {},
     "output_type": "execute_result"
    }
   ],
   "source": [
    "response[\"hits\"][\"hits\"][0]['_source']['section']"
   ]
  },
  {
   "cell_type": "code",
   "execution_count": 19,
   "id": "7a6b3099-be16-44b0-b530-8e241b3f579b",
   "metadata": {},
   "outputs": [
    {
     "data": {
      "text/plain": [
       "{'General course-related questions'}"
      ]
     },
     "execution_count": 19,
     "metadata": {},
     "output_type": "execute_result"
    }
   ],
   "source": [
    "section_list = set()\n",
    "for i in range(len(response[\"hits\"][\"hits\"])):\n",
    "    section_list.add(response[\"hits\"][\"hits\"][0]['_source']['section'])\n",
    "section_list"
   ]
  },
  {
   "cell_type": "code",
   "execution_count": null,
   "id": "fd1a1a74-d528-4c45-883f-837bcecd9edb",
   "metadata": {},
   "outputs": [],
   "source": []
  }
 ],
 "metadata": {
  "kernelspec": {
   "display_name": "Python 3 (ipykernel)",
   "language": "python",
   "name": "python3"
  },
  "language_info": {
   "codemirror_mode": {
    "name": "ipython",
    "version": 3
   },
   "file_extension": ".py",
   "mimetype": "text/x-python",
   "name": "python",
   "nbconvert_exporter": "python",
   "pygments_lexer": "ipython3",
   "version": "3.10.14"
  }
 },
 "nbformat": 4,
 "nbformat_minor": 5
}
