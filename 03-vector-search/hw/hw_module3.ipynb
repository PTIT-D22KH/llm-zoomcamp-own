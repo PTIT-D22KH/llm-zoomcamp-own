{
 "cells": [
  {
   "cell_type": "code",
   "execution_count": 1,
   "id": "e75c0e44-cf6e-4207-8a78-0907d2131b88",
   "metadata": {},
   "outputs": [
    {
     "name": "stderr",
     "output_type": "stream",
     "text": [
      "/usr/local/lib/python3.10/site-packages/tqdm/auto.py:21: TqdmWarning: IProgress not found. Please update jupyter and ipywidgets. See https://ipywidgets.readthedocs.io/en/stable/user_install.html\n",
      "  from .autonotebook import tqdm as notebook_tqdm\n"
     ]
    }
   ],
   "source": [
    "from sentence_transformers import SentenceTransformer"
   ]
  },
  {
   "cell_type": "code",
   "execution_count": 2,
   "id": "25f0acf8-9a32-4fd6-9a35-08d0d51dcac6",
   "metadata": {},
   "outputs": [],
   "source": [
    "model_name = 'multi-qa-distilbert-cos-v1'"
   ]
  },
  {
   "cell_type": "code",
   "execution_count": 3,
   "id": "656aebe8-a215-4493-8993-8410ecb8a2f8",
   "metadata": {},
   "outputs": [],
   "source": [
    "embedding_model = SentenceTransformer(model_name)"
   ]
  },
  {
   "cell_type": "markdown",
   "id": "74b38860-28ac-4637-bebb-cea063a1fcca",
   "metadata": {},
   "source": [
    "## Q1"
   ]
  },
  {
   "cell_type": "code",
   "execution_count": 4,
   "id": "06a77ad6-a3c3-4c06-a55d-b345771f8183",
   "metadata": {},
   "outputs": [],
   "source": [
    "user_question = \"I just discovered the course. Can I still join it?\""
   ]
  },
  {
   "cell_type": "code",
   "execution_count": 5,
   "id": "bd21cee1-fb55-4a5a-b9e7-b51bdc07925e",
   "metadata": {},
   "outputs": [],
   "source": [
    "response = embedding_model.encode(user_question)"
   ]
  },
  {
   "cell_type": "code",
   "execution_count": 8,
   "id": "3d216f53-3e4c-4ae5-9e72-edae13f46890",
   "metadata": {},
   "outputs": [
    {
     "data": {
      "text/plain": [
       "768"
      ]
     },
     "execution_count": 8,
     "metadata": {},
     "output_type": "execute_result"
    }
   ],
   "source": [
    "len(response)"
   ]
  },
  {
   "cell_type": "code",
   "execution_count": 9,
   "id": "4f444ec5-ab0e-44a0-a6ed-1e1c03ef61e1",
   "metadata": {},
   "outputs": [
    {
     "data": {
      "text/plain": [
       "0.078222655"
      ]
     },
     "execution_count": 9,
     "metadata": {},
     "output_type": "execute_result"
    }
   ],
   "source": [
    "response[0]"
   ]
  },
  {
   "cell_type": "markdown",
   "id": "e6f9fc1d-e1d7-4e3d-87fe-feaeb04589bb",
   "metadata": {},
   "source": [
    "## Q2"
   ]
  },
  {
   "cell_type": "code",
   "execution_count": 10,
   "id": "61e06fe1-ae4d-496f-86a8-cc469b600858",
   "metadata": {},
   "outputs": [],
   "source": [
    "import requests \n",
    "\n",
    "base_url = 'https://github.com/DataTalksClub/llm-zoomcamp/blob/main'\n",
    "relative_url = '03-vector-search/eval/documents-with-ids.json'\n",
    "docs_url = f'{base_url}/{relative_url}?raw=1'\n",
    "docs_response = requests.get(docs_url)\n",
    "documents = docs_response.json()"
   ]
  },
  {
   "cell_type": "code",
   "execution_count": 20,
   "id": "d6a1c364-cbff-47b0-a927-d18a324506ba",
   "metadata": {},
   "outputs": [
    {
     "data": {
      "text/plain": [
       "list"
      ]
     },
     "execution_count": 20,
     "metadata": {},
     "output_type": "execute_result"
    }
   ],
   "source": [
    "type(documents)"
   ]
  },
  {
   "cell_type": "code",
   "execution_count": 21,
   "id": "ece32ce9-32cb-402f-b1ea-572dbc2ae300",
   "metadata": {},
   "outputs": [
    {
     "data": {
      "text/plain": [
       "{'text': \"The purpose of this document is to capture frequently asked technical questions\\nThe exact day and hour of the course will be 15th Jan 2024 at 17h00. The course will start with the first  “Office Hours'' live.1\\nSubscribe to course public Google Calendar (it works from Desktop only).\\nRegister before the course starts using this link.\\nJoin the course Telegram channel with announcements.\\nDon’t forget to register in DataTalks.Club's Slack and join the channel.\",\n",
       " 'section': 'General course-related questions',\n",
       " 'question': 'Course - When will the course start?',\n",
       " 'course': 'data-engineering-zoomcamp',\n",
       " 'id': 'c02e79ef'}"
      ]
     },
     "execution_count": 21,
     "metadata": {},
     "output_type": "execute_result"
    }
   ],
   "source": [
    "documents[0]"
   ]
  },
  {
   "cell_type": "code",
   "execution_count": 16,
   "id": "f3842990-9e77-4400-a8c3-ac9e1e028701",
   "metadata": {},
   "outputs": [
    {
     "data": {
      "text/plain": [
       "'data-engineering-zoomcamp'"
      ]
     },
     "execution_count": 16,
     "metadata": {},
     "output_type": "execute_result"
    }
   ],
   "source": [
    "documents[0]['course']"
   ]
  },
  {
   "cell_type": "code",
   "execution_count": 22,
   "id": "a0c651f8-3cff-4c51-ae44-422ad7f4a673",
   "metadata": {},
   "outputs": [],
   "source": [
    "def filter_document(documents):\n",
    "    new_documents = documents\n",
    "    documents_list = []\n",
    "    for i in range(len(new_documents)):\n",
    "        if (new_documents[i]['course'] == 'machine-learning-zoomcamp'):\n",
    "            documents_list.append(new_documents[i])\n",
    "    return documents_list\n",
    "    "
   ]
  },
  {
   "cell_type": "code",
   "execution_count": 24,
   "id": "37e6bd36-9431-43bc-a16a-cab922751d98",
   "metadata": {},
   "outputs": [
    {
     "data": {
      "text/plain": [
       "375"
      ]
     },
     "execution_count": 24,
     "metadata": {},
     "output_type": "execute_result"
    }
   ],
   "source": [
    "new_documents = filter_document(documents)\n",
    "len(new_documents)"
   ]
  },
  {
   "cell_type": "code",
   "execution_count": null,
   "id": "083fb9dc-4dd0-4839-8883-f2fc7b0e869b",
   "metadata": {},
   "outputs": [],
   "source": []
  }
 ],
 "metadata": {
  "kernelspec": {
   "display_name": "Python 3 (ipykernel)",
   "language": "python",
   "name": "python3"
  },
  "language_info": {
   "codemirror_mode": {
    "name": "ipython",
    "version": 3
   },
   "file_extension": ".py",
   "mimetype": "text/x-python",
   "name": "python",
   "nbconvert_exporter": "python",
   "pygments_lexer": "ipython3",
   "version": "3.10.14"
  }
 },
 "nbformat": 4,
 "nbformat_minor": 5
}
