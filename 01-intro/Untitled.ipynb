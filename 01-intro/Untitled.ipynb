{
 "cells": [
  {
   "cell_type": "code",
   "execution_count": 1,
   "id": "2059ea34-6c9c-4aa0-875c-14cc5e82b000",
   "metadata": {},
   "outputs": [],
   "source": [
    "import openai"
   ]
  },
  {
   "cell_type": "code",
   "execution_count": 2,
   "id": "b628bc21-6fe3-40ab-baff-703a8b18dbd3",
   "metadata": {},
   "outputs": [],
   "source": [
    "import os"
   ]
  },
  {
   "cell_type": "code",
   "execution_count": 4,
   "id": "91699fb4-f9b0-4cdb-9080-b84236eb11fa",
   "metadata": {},
   "outputs": [
    {
     "data": {
      "text/plain": [
       "environ{'HOSTNAME': '8acd88cacd75',\n",
       "        'PYTHON_VERSION': '3.10.13',\n",
       "        'PWD': '/app',\n",
       "        'PYTHON_SETUPTOOLS_VERSION': '65.5.1',\n",
       "        'HOME': '/root',\n",
       "        'LANG': 'C.UTF-8',\n",
       "        'GPG_KEY': 'A035C8C19219BA821ECEA86B64E628F8D684696D',\n",
       "        'TERM': 'xterm-color',\n",
       "        'SHLVL': '1',\n",
       "        'PYTHON_PIP_VERSION': '23.0.1',\n",
       "        'PYTHON_GET_PIP_SHA256': 'dfe9fd5c28dc98b5ac17979a953ea550cec37ae1b47a5116007395bfacff2ab9',\n",
       "        'PYTHON_GET_PIP_URL': 'https://github.com/pypa/get-pip/raw/dbf0c85f76fb6e1ab42aa672ffca6f0a675d9ee4/public/get-pip.py',\n",
       "        'PATH': '/usr/local/bin:/usr/local/sbin:/usr/local/bin:/usr/sbin:/usr/bin:/sbin:/bin',\n",
       "        '_': '/usr/local/bin/jupyter',\n",
       "        'JPY_SESSION_NAME': '/app/01-intro/Untitled.ipynb',\n",
       "        'JPY_PARENT_PID': '9',\n",
       "        'PYDEVD_USE_FRAME_EVAL': 'NO',\n",
       "        'CLICOLOR': '1',\n",
       "        'FORCE_COLOR': '1',\n",
       "        'CLICOLOR_FORCE': '1',\n",
       "        'PAGER': 'cat',\n",
       "        'GIT_PAGER': 'cat',\n",
       "        'MPLBACKEND': 'module://matplotlib_inline.backend_inline'}"
      ]
     },
     "execution_count": 4,
     "metadata": {},
     "output_type": "execute_result"
    }
   ],
   "source": [
    "os.environ"
   ]
  },
  {
   "cell_type": "code",
   "execution_count": null,
   "id": "6e3952b5-959d-41f9-ae08-e9720c71008a",
   "metadata": {},
   "outputs": [],
   "source": []
  }
 ],
 "metadata": {
  "kernelspec": {
   "display_name": "Python 3 (ipykernel)",
   "language": "python",
   "name": "python3"
  },
  "language_info": {
   "codemirror_mode": {
    "name": "ipython",
    "version": 3
   },
   "file_extension": ".py",
   "mimetype": "text/x-python",
   "name": "python",
   "nbconvert_exporter": "python",
   "pygments_lexer": "ipython3",
   "version": "3.10.13"
  }
 },
 "nbformat": 4,
 "nbformat_minor": 5
}
