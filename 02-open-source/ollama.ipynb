{
 "cells": [
  {
   "cell_type": "code",
   "execution_count": 1,
   "id": "506fab2a-a50c-42bd-a106-c83a9d2828ea",
   "metadata": {},
   "outputs": [
    {
     "name": "stdout",
     "output_type": "stream",
     "text": [
      "--2024-06-24 02:58:58--  https://raw.githubusercontent.com/alexeygrigorev/minsearch/main/minsearch.py\n",
      "Resolving raw.githubusercontent.com (raw.githubusercontent.com)... 185.199.109.133, 185.199.110.133, 185.199.111.133, ...\n",
      "Connecting to raw.githubusercontent.com (raw.githubusercontent.com)|185.199.109.133|:443... connected.\n",
      "HTTP request sent, awaiting response... 200 OK\n",
      "Length: 3832 (3.7K) [text/plain]\n",
      "Saving to: ‘minsearch.py’\n",
      "\n",
      "minsearch.py        100%[===================>]   3.74K  --.-KB/s    in 0s      \n",
      "\n",
      "2024-06-24 02:58:58 (37.2 MB/s) - ‘minsearch.py’ saved [3832/3832]\n",
      "\n"
     ]
    }
   ],
   "source": [
    "!rm -f minsearch.py\n",
    "!wget https://raw.githubusercontent.com/alexeygrigorev/minsearch/main/minsearch.py"
   ]
  },
  {
   "cell_type": "code",
   "execution_count": 2,
   "id": "3ac947de-effd-4b61-8792-a6d7a133f347",
   "metadata": {},
   "outputs": [
    {
     "data": {
      "text/plain": [
       "<minsearch.Index at 0x71ad2884e470>"
      ]
     },
     "execution_count": 2,
     "metadata": {},
     "output_type": "execute_result"
    }
   ],
   "source": [
    "import requests \n",
    "import minsearch\n",
    "\n",
    "docs_url = 'https://github.com/DataTalksClub/llm-zoomcamp/blob/main/01-intro/documents.json?raw=1'\n",
    "docs_response = requests.get(docs_url)\n",
    "documents_raw = docs_response.json()\n",
    "\n",
    "documents = []\n",
    "\n",
    "for course in documents_raw:\n",
    "    course_name = course['course']\n",
    "\n",
    "    for doc in course['documents']:\n",
    "        doc['course'] = course_name\n",
    "        documents.append(doc)\n",
    "\n",
    "index = minsearch.Index(\n",
    "    text_fields=[\"question\", \"text\", \"section\"],\n",
    "    keyword_fields=[\"course\"]\n",
    ")\n",
    "\n",
    "index.fit(documents)"
   ]
  },
  {
   "cell_type": "code",
   "execution_count": 3,
   "id": "8f087272-b44d-4738-9ea2-175ec63a058b",
   "metadata": {},
   "outputs": [],
   "source": [
    "def search(query):\n",
    "    boost = {'question': 3.0, 'section': 0.5}\n",
    "\n",
    "    results = index.search(\n",
    "        query=query,\n",
    "        filter_dict={'course': 'data-engineering-zoomcamp'},\n",
    "        boost_dict=boost,\n",
    "        num_results=5\n",
    "    )\n",
    "\n",
    "    return results"
   ]
  },
  {
   "cell_type": "code",
   "execution_count": 4,
   "id": "742ab881-499a-4675-83c4-2013ea1377b9",
   "metadata": {},
   "outputs": [],
   "source": [
    "def build_prompt(query, search_results):\n",
    "    prompt_template = \"\"\"\n",
    "You're a course teaching assistant. Answer the QUESTION based on the CONTEXT from the FAQ database.\n",
    "Use only the facts from the CONTEXT when answering the QUESTION.\n",
    "\n",
    "QUESTION: {question}\n",
    "\n",
    "CONTEXT: \n",
    "{context}\n",
    "\"\"\".strip()\n",
    "\n",
    "    context = \"\"\n",
    "    \n",
    "    for doc in search_results:\n",
    "        context = context + f\"section: {doc['section']}\\nquestion: {doc['question']}\\nanswer: {doc['text']}\\n\\n\"\n",
    "    \n",
    "    prompt = prompt_template.format(question=query, context=context).strip()\n",
    "    return prompt\n",
    "\n",
    "def llm(prompt):\n",
    "    response = client.chat.completions.create(\n",
    "        model='phi3',\n",
    "        messages=[{\"role\": \"user\", \"content\": prompt}]\n",
    "    )\n",
    "    \n",
    "    return response.choices[0].message.content"
   ]
  },
  {
   "cell_type": "code",
   "execution_count": 5,
   "id": "fe8bff3e-b672-42be-866b-f2d9bb217106",
   "metadata": {},
   "outputs": [],
   "source": [
    "def rag(query):\n",
    "    search_results = search(query)\n",
    "    prompt = build_prompt(query, search_results)\n",
    "    answer = llm(prompt)\n",
    "    return answer"
   ]
  },
  {
   "cell_type": "code",
   "execution_count": 6,
   "id": "091a77e6-936b-448e-a04b-bad1001f5bb0",
   "metadata": {},
   "outputs": [],
   "source": [
    "from openai import OpenAI\n",
    "\n",
    "client = OpenAI(\n",
    "    base_url='http://localhost:11434/v1/',\n",
    "    api_key='ollama',\n",
    ")"
   ]
  },
  {
   "cell_type": "code",
   "execution_count": 7,
   "id": "9ee527a3-3331-4f4e-b6c8-f659ffc113f5",
   "metadata": {},
   "outputs": [
    {
     "data": {
      "text/plain": [
       "' This statement simply communicates the purpose of the text, which in this case is to indicate that the content following it serves as an example or a placeholder. It can be useful in various contexts such as during programming when initializing variables, testing out formatting, or providing examples for future reference. Here\\'s how you might use it within a more structured document:\\n\\n---\\n\\n**Title: Sample Content Usage**\\n\\nThis section introduces the concept of using text to signal test content or placeholder messages in various documents and systems.\\n\\n### Purpose of the Test Message\\nThe message \"This is a test\" serves several important functions:\\n\\n- **Placeholder Function**: It acts as a non-disruptive marker within your document, indicating where additional content may be inserted without affecting existing layouts or scripts. This can help in debugging processes by isolating sections of the document for targeted testing.\\n  \\n- **Example Signaling**: In development environments (such as web templates, software documentation, etc.), this message is often used to demonstrate how certain elements behave when populated with dynamic content. It helps developers understand the structure without being distracted by specific details at this stage.\\n\\n### Implementation Examples\\nHere are a few scenarios where \"This is a test\" can be effectively used:\\n\\n#### Web Development (HTML/CSS)\\n```html\\n<body>\\n  <h1>Document Content</h1>\\n  <p id=\"test-placeholder\">This is a test</p>\\n  <!-- Additional content or functionality -->\\n</body>\\n```\\n\\n#### Software Testing Scripts (Python Example)\\n```python\\ndef placeholder_content():\\n    return \"This is a test\"\\n\\n# Using the function in conditional logic for testing purposes\\nif condition:\\n    print(placeholder_content())\\nelse:\\n    pass  # No action needed here, just serving as an example.\\n```\\n\\n#### Markdown Documentation\\nIn a markdown file designed for documentation or API guides, \"This is a test\" might be used in code blocks to illustrate the expected output without affecting the document\\'s flow:\\n\\n```markdown\\n## Example Output\\nHere\\'s an example of how your function call should look like when testing. Note that this is just a placeholder:\\n\\n```python\\n# Sample Python function\\ndef greet(name):\\n    return f\"Hello, {name}!\"\\n\\n# Test case output\\nprint(greet(\"John\"))  # This will print \"Hello, John!\" if the test passes.\\nThis is a test\\n```\\n\\n### Conclusion\\nThe simplicity of \"This is a test\" belies its utility in various programming and documentation practices. It\\'s an essential tool for developers to use when demonstrating content without the need for specific data or functionality at that stage of development or testing.\\n\\n---'"
      ]
     },
     "execution_count": 7,
     "metadata": {},
     "output_type": "execute_result"
    }
   ],
   "source": [
    "llm('write that this is a test')"
   ]
  },
  {
   "cell_type": "code",
   "execution_count": 8,
   "id": "21aa255e-c971-44ca-9826-a721df3ad063",
   "metadata": {},
   "outputs": [
    {
     "name": "stdout",
     "output_type": "stream",
     "text": [
      " This statement simply communicates the purpose of the text, which in this case is to indicate that the content following it serves as an example or a placeholder. It can be useful in various contexts such as during programming when initializing variables, testing out formatting, or providing examples for future reference. Here's how you might use it within a more structured document:\n",
      "\n",
      "---\n",
      "\n",
      "**Title: Sample Content Usage**\n",
      "\n",
      "This section introduces the concept of using text to signal test content or placeholder messages in various documents and systems.\n",
      "\n",
      "### Purpose of the Test Message\n",
      "The message \"This is a test\" serves several important functions:\n",
      "\n",
      "- **Placeholder Function**: It acts as a non-disruptive marker within your document, indicating where additional content may be inserted without affecting existing layouts or scripts. This can help in debugging processes by isolating sections of the document for targeted testing.\n",
      "  \n",
      "- **Example Signaling**: In development environments (such as web templates, software documentation, etc.), this message is often used to demonstrate how certain elements behave when populated with dynamic content. It helps developers understand the structure without being distracted by specific details at this stage.\n",
      "\n",
      "### Implementation Examples\n",
      "Here are a few scenarios where \"This is a test\" can be effectively used:\n",
      "\n",
      "#### Web Development (HTML/CSS)\n",
      "```html\n",
      "<body>\n",
      "  <h1>Document Content</h1>\n",
      "  <p id=\"test-placeholder\">This is a test</p>\n",
      "  <!-- Additional content or functionality -->\n",
      "</body>\n",
      "```\n",
      "\n",
      "#### Software Testing Scripts (Python Example)\n",
      "```python\n",
      "def placeholder_content():\n",
      "    return \"This is a test\"\n",
      "\n",
      "# Using the function in conditional logic for testing purposes\n",
      "if condition:\n",
      "    print(placeholder_content())\n",
      "else:\n",
      "    pass  # No action needed here, just serving as an example.\n",
      "```\n",
      "\n",
      "#### Markdown Documentation\n",
      "In a markdown file designed for documentation or API guides, \"This is a test\" might be used in code blocks to illustrate the expected output without affecting the document's flow:\n",
      "\n",
      "```markdown\n",
      "## Example Output\n",
      "Here's an example of how your function call should look like when testing. Note that this is just a placeholder:\n",
      "\n",
      "```python\n",
      "# Sample Python function\n",
      "def greet(name):\n",
      "    return f\"Hello, {name}!\"\n",
      "\n",
      "# Test case output\n",
      "print(greet(\"John\"))  # This will print \"Hello, John!\" if the test passes.\n",
      "This is a test\n",
      "```\n",
      "\n",
      "### Conclusion\n",
      "The simplicity of \"This is a test\" belies its utility in various programming and documentation practices. It's an essential tool for developers to use when demonstrating content without the need for specific data or functionality at that stage of development or testing.\n",
      "\n",
      "---\n"
     ]
    }
   ],
   "source": [
    "print(_)"
   ]
  },
  {
   "cell_type": "code",
   "execution_count": null,
   "id": "988ece59-951a-4b32-ba3f-cb8efb66a9bb",
   "metadata": {},
   "outputs": [],
   "source": []
  }
 ],
 "metadata": {
  "kernelspec": {
   "display_name": "Python 3 (ipykernel)",
   "language": "python",
   "name": "python3"
  },
  "language_info": {
   "codemirror_mode": {
    "name": "ipython",
    "version": 3
   },
   "file_extension": ".py",
   "mimetype": "text/x-python",
   "name": "python",
   "nbconvert_exporter": "python",
   "pygments_lexer": "ipython3",
   "version": "3.10.13"
  }
 },
 "nbformat": 4,
 "nbformat_minor": 5
}
