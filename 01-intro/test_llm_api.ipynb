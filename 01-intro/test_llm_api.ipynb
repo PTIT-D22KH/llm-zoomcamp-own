{
 "cells": [
  {
   "cell_type": "code",
   "execution_count": 1,
   "id": "2059ea34-6c9c-4aa0-875c-14cc5e82b000",
   "metadata": {},
   "outputs": [],
   "source": [
    "import openai"
   ]
  },
  {
   "cell_type": "code",
   "execution_count": 2,
   "id": "b628bc21-6fe3-40ab-baff-703a8b18dbd3",
   "metadata": {},
   "outputs": [],
   "source": [
    "import os"
   ]
  },
  {
   "cell_type": "code",
   "execution_count": 3,
   "id": "e47465d0-c19f-4a4f-8e31-b4b82cca52be",
   "metadata": {},
   "outputs": [],
   "source": [
    "from openai import OpenAI"
   ]
  },
  {
   "cell_type": "code",
   "execution_count": 4,
   "id": "04db6d45-d890-49b4-a522-97d95255defa",
   "metadata": {},
   "outputs": [],
   "source": [
    "from groq import Groq"
   ]
  },
  {
   "cell_type": "code",
   "execution_count": 5,
   "id": "e37dc128-0277-4717-aaa0-31d2d27fb7c7",
   "metadata": {},
   "outputs": [],
   "source": [
    "client =  Groq(api_key = os.environ['GROQ_API_KEY'])"
   ]
  },
  {
   "cell_type": "code",
   "execution_count": 6,
   "id": "5c93487d-700a-4865-ba09-37877a787d5c",
   "metadata": {},
   "outputs": [],
   "source": [
    "response = client.chat.completions.create(\n",
    "    model=\"llama3-70b-8192\",\n",
    "    messages=[\n",
    "        {\n",
    "            \"role\": \"user\",\n",
    "            \"content\": \"Is it too late to join the course\",\n",
    "        }\n",
    "    ],\n",
    ")\n"
   ]
  },
  {
   "cell_type": "code",
   "execution_count": 8,
   "id": "3a7a323c-7b8a-498f-b887-4dd3a8f3dca7",
   "metadata": {},
   "outputs": [
    {
     "name": "stdout",
     "output_type": "stream",
     "text": [
      "I'm happy to help you with your question! However, I need a bit more context to provide a accurate answer. Could you please provide more information about the course you're referring to?\n",
      "\n",
      "Here are a few questions to help me better understand your situation:\n",
      "\n",
      "1. What course are you trying to join?\n",
      "2. Is it an online course or an in-person course?\n",
      "3. When did the course start?\n",
      "4. Is there a specific deadline to join the course, or is it an ongoing course?\n",
      "\n",
      "Once I have more information, I'll do my best to advise you on whether it's too late to join the course or if there are any potential options for late enrollment.\n"
     ]
    }
   ],
   "source": [
    "print(response.choices[0].message.content)"
   ]
  },
  {
   "cell_type": "code",
   "execution_count": null,
   "id": "97f1861b-c909-4ef4-a84b-ffe3d9b8b449",
   "metadata": {},
   "outputs": [],
   "source": []
  }
 ],
 "metadata": {
  "kernelspec": {
   "display_name": "Python 3 (ipykernel)",
   "language": "python",
   "name": "python3"
  },
  "language_info": {
   "codemirror_mode": {
    "name": "ipython",
    "version": 3
   },
   "file_extension": ".py",
   "mimetype": "text/x-python",
   "name": "python",
   "nbconvert_exporter": "python",
   "pygments_lexer": "ipython3",
   "version": "3.10.13"
  }
 },
 "nbformat": 4,
 "nbformat_minor": 5
}
