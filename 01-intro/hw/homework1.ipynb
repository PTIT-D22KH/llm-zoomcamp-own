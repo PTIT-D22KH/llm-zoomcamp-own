{
 "cells": [
  {
   "cell_type": "code",
   "execution_count": 1,
   "id": "6068715b-8033-45b7-93c5-d0bb93c5dd40",
   "metadata": {},
   "outputs": [],
   "source": [
    "import requests \n",
    "\n",
    "docs_url = 'https://github.com/DataTalksClub/llm-zoomcamp/blob/main/01-intro/documents.json?raw=1'\n",
    "docs_response = requests.get(docs_url)\n",
    "documents_raw = docs_response.json()\n",
    "\n",
    "documents = []\n",
    "\n",
    "for course in documents_raw:\n",
    "    course_name = course['course']\n",
    "\n",
    "    for doc in course['documents']:\n",
    "        doc['course'] = course_name\n",
    "        documents.append(doc)"
   ]
  },
  {
   "cell_type": "markdown",
   "id": "661f016c-15f7-4e3e-8a71-60892fcd7864",
   "metadata": {},
   "source": [
    "# Q1"
   ]
  },
  {
   "cell_type": "code",
   "execution_count": 7,
   "id": "4b09ad1f-97cd-42fe-89cd-843982aacf6f",
   "metadata": {},
   "outputs": [
    {
     "name": "stdout",
     "output_type": "stream",
     "text": [
      "{\n",
      "  \"name\" : \"a245605010fe\",\n",
      "  \"cluster_name\" : \"docker-cluster\",\n",
      "  \"cluster_uuid\" : \"IOIof_fwQpKZWXrPeauzyQ\",\n",
      "  \"version\" : {\n",
      "    \"number\" : \"8.4.3\",\n",
      "    \"build_flavor\" : \"default\",\n",
      "    \"build_type\" : \"docker\",\n",
      "    \"build_hash\" : \"42f05b9372a9a4a470db3b52817899b99a76ee73\",\n",
      "    \"build_date\" : \"2022-10-04T07:17:24.662462378Z\",\n",
      "    \"build_snapshot\" : false,\n",
      "    \"lucene_version\" : \"9.3.0\",\n",
      "    \"minimum_wire_compatibility_version\" : \"7.17.0\",\n",
      "    \"minimum_index_compatibility_version\" : \"7.0.0\"\n",
      "  },\n",
      "  \"tagline\" : \"You Know, for Search\"\n",
      "}\n"
     ]
    }
   ],
   "source": [
    "!curl localhost:9200"
   ]
  },
  {
   "cell_type": "markdown",
   "id": "79f2a8c7-a91f-4ac1-bae2-6af08ae75d22",
   "metadata": {},
   "source": [
    "# Q2"
   ]
  },
  {
   "cell_type": "code",
   "execution_count": 8,
   "id": "e68e09ce-046a-41a8-a255-c18f1b0add69",
   "metadata": {},
   "outputs": [],
   "source": [
    "from elasticsearch import Elasticsearch"
   ]
  },
  {
   "cell_type": "code",
   "execution_count": 9,
   "id": "27f0322f-8bb7-454b-a974-fc4cbdd4652c",
   "metadata": {},
   "outputs": [],
   "source": [
    "es_client = Elasticsearch('http://localhost:9200')"
   ]
  },
  {
   "cell_type": "code",
   "execution_count": 10,
   "id": "46aece48-2363-4e41-8670-cf0e9cc5d178",
   "metadata": {},
   "outputs": [],
   "source": [
    "index_settings = {\n",
    "    \"settings\": {\n",
    "        \"number_of_shards\": 1,\n",
    "        \"number_of_replicas\": 0\n",
    "    },\n",
    "    \"mappings\": {\n",
    "        \"properties\": {\n",
    "            \"text\": {\"type\": \"text\"},\n",
    "            \"section\": {\"type\": \"text\"},\n",
    "            \"question\": {\"type\": \"text\"},\n",
    "            \"course\": {\"type\": \"keyword\"} \n",
    "        }\n",
    "    }\n",
    "}"
   ]
  },
  {
   "cell_type": "code",
   "execution_count": 11,
   "id": "3e04a2f0-f767-4b8a-be2d-5c5fce6ee2e9",
   "metadata": {},
   "outputs": [
    {
     "data": {
      "text/plain": [
       "ObjectApiResponse({'acknowledged': True, 'shards_acknowledged': True, 'index': 'course-questions'})"
      ]
     },
     "execution_count": 11,
     "metadata": {},
     "output_type": "execute_result"
    }
   ],
   "source": [
    "index_name = \"course-questions\"\n",
    "\n",
    "es_client.indices.create(index=index_name, body=index_settings)"
   ]
  },
  {
   "cell_type": "code",
   "execution_count": 12,
   "id": "92d58533-2563-494c-934e-cd60d425eb0b",
   "metadata": {},
   "outputs": [
    {
     "name": "stderr",
     "output_type": "stream",
     "text": [
      "/usr/local/python/3.10.13/lib/python3.10/site-packages/tqdm/auto.py:21: TqdmWarning: IProgress not found. Please update jupyter and ipywidgets. See https://ipywidgets.readthedocs.io/en/stable/user_install.html\n",
      "  from .autonotebook import tqdm as notebook_tqdm\n"
     ]
    }
   ],
   "source": [
    "from tqdm.auto import tqdm"
   ]
  },
  {
   "cell_type": "code",
   "execution_count": 13,
   "id": "df87e33f-8afa-4c6c-b4b2-df8d55e3042a",
   "metadata": {},
   "outputs": [
    {
     "name": "stderr",
     "output_type": "stream",
     "text": [
      "100%|████████████████████| 948/948 [00:20<00:00, 46.74it/s]\n"
     ]
    }
   ],
   "source": [
    "for doc in tqdm(documents):\n",
    "    es_client.index(index=index_name, document=doc)"
   ]
  },
  {
   "cell_type": "markdown",
   "id": "407be662-35ef-4273-8f56-b434b97727d3",
   "metadata": {},
   "source": [
    "# Q3"
   ]
  },
  {
   "cell_type": "markdown",
   "id": "cbbe24e6-41ca-4093-b1da-effdc72515ae",
   "metadata": {},
   "source": [
    "# Explanation\n",
    "\n",
    "## size\n",
    "Specifies the number of results to return. In this case, it's set to 5, meaning the query will return up to 5 documents that match the search criteria.\n",
    "\n",
    "## query\n",
    "The top-level key indicating that the following section defines the query to execute.\n",
    "\n",
    "## bool query\n",
    "A boolean query allows combining multiple query clauses to achieve specific search goals.\n",
    "\n",
    "### must clause\n",
    "Contains a `multi_match` query, which searches for documents that match the `user_question` in multiple fields (`question`, `text`, `section`).\n",
    "- The `query` parameter is dynamically filled with `user_question` (presumably a user-provided search query).\n",
    "- `fields` specifies the fields to search in. The `^3` after `question` boosts its importance (weight) in the search results, indicating that matches in the `question` field are more significant.\n",
    "- `type` is set to `best_fields`, which finds documents where any field matches and uses the highest score for that match.\n",
    "\n",
    "### filter clause\n",
    "Contains a `term` query that filters documents based on exact matching of the `course` field.\n",
    "Specifically, it filters documents where the `course` field exactly matches \"data-engineering-zoomcamp\".\n",
    "\n",
    "# Summary\n",
    "This Elasticsearch query will return up to 5 documents where:\n",
    "- The documents must match the `user_question` in at least one of the specified fields (`question`, `text`, `section`).\n",
    "- The `question` field is given higher relevance (`^3`) in determining matches.\n",
    "- The documents must also have the `course` field set to \"data-engineering-zoomcamp\".\n",
    "\n",
    "This query structure is typical for searching specific fields with boosted relevance and applying filters to narrow down search results based on certain criteria."
   ]
  },
  {
   "cell_type": "code",
   "execution_count": 22,
   "id": "6710b3fb-bc88-4d08-9e56-211ce4fefbb5",
   "metadata": {},
   "outputs": [],
   "source": [
    "def elastic_search_q3(query):\n",
    "    search_query = {\n",
    "        \"size\": 5,\n",
    "        \"query\": {\n",
    "            \"bool\": {\n",
    "                \"must\": {\n",
    "                    \"multi_match\": {\n",
    "                        \"query\": query,\n",
    "                        \"fields\": [\"question^4\", \"text\"],\n",
    "                        \"type\": \"best_fields\"\n",
    "                    }\n",
    "                }\n",
    "            }\n",
    "        }\n",
    "    }\n",
    "\n",
    "    response = es_client.search(index=index_name, body=search_query)\n",
    "    \n",
    "    print(response['hits']['hits'][0]['_score'])"
   ]
  },
  {
   "cell_type": "code",
   "execution_count": 23,
   "id": "932471cc-09bb-473b-aaea-9111673206cf",
   "metadata": {},
   "outputs": [],
   "source": [
    "query = \"How do I execute a command in a running docker container?\""
   ]
  },
  {
   "cell_type": "code",
   "execution_count": 24,
   "id": "9791ae00-7226-4f96-acbf-50413f7fb486",
   "metadata": {},
   "outputs": [
    {
     "name": "stdout",
     "output_type": "stream",
     "text": [
      "84.050095\n"
     ]
    }
   ],
   "source": [
    "elastic_search_q3(query)"
   ]
  },
  {
   "cell_type": "markdown",
   "id": "04114c10-51ce-451e-9320-d403b6ff9a6c",
   "metadata": {},
   "source": [
    "# Q4"
   ]
  },
  {
   "cell_type": "code",
   "execution_count": 38,
   "id": "f2641934-e31b-4a0e-a186-df0b96eba248",
   "metadata": {},
   "outputs": [],
   "source": [
    "def elastic_search_q4(query):\n",
    "    search_query = {\n",
    "        \"size\": 5,\n",
    "        \"query\": {\n",
    "            \"bool\": {\n",
    "                \"must\": {\n",
    "                    \"multi_match\": {\n",
    "                        \"query\": query,\n",
    "                        \"fields\": [\"question^4\", \"text\"],\n",
    "                        \"type\": \"best_fields\"\n",
    "                    }\n",
    "                },\n",
    "                \"filter\": {\n",
    "                    \"term\": {\n",
    "                        \"course\": \"machine-learning-zoomcamp\"\n",
    "                    }\n",
    "                }\n",
    "            }\n",
    "        }\n",
    "    }\n",
    "\n",
    "    response = es_client.search(index=index_name, body=search_query)\n",
    "    \n",
    "    result_docs = []\n",
    "    cnt = 3\n",
    "    for hit in response['hits']['hits']:\n",
    "        if (cnt > 0):\n",
    "            result_docs.append(hit['_source']['question'])\n",
    "            cnt -= 1;\n",
    "        else:\n",
    "            break;\n",
    "    \n",
    "    return result_docs"
   ]
  },
  {
   "cell_type": "code",
   "execution_count": 39,
   "id": "50b5c2f3-4ff0-4098-b44b-29c41fe4166a",
   "metadata": {},
   "outputs": [
    {
     "data": {
      "text/plain": [
       "['How do I debug a docker container?',\n",
       " 'How do I copy files from my local machine to docker container?',\n",
       " 'How do I copy files from a different folder into docker container’s working directory?']"
      ]
     },
     "execution_count": 39,
     "metadata": {},
     "output_type": "execute_result"
    }
   ],
   "source": [
    "elastic_search_q4(query)"
   ]
  },
  {
   "cell_type": "markdown",
   "id": "d9e30311-e6f3-481e-a236-7006aafc7c75",
   "metadata": {},
   "source": [
    "# Q5"
   ]
  },
  {
   "cell_type": "code",
   "execution_count": 44,
   "id": "edf9deed-a3d5-449a-93ec-0f16d0a1f370",
   "metadata": {},
   "outputs": [],
   "source": [
    "def elastic_search_q5(query):\n",
    "    search_query = {\n",
    "        \"size\": 5,\n",
    "        \"query\": {\n",
    "            \"bool\": {\n",
    "                \"must\": {\n",
    "                    \"multi_match\": {\n",
    "                        \"query\": query,\n",
    "                        \"fields\": [\"question^4\", \"text\"],\n",
    "                        \"type\": \"best_fields\"\n",
    "                    }\n",
    "                },\n",
    "                \"filter\": {\n",
    "                    \"term\": {\n",
    "                        \"course\": \"machine-learning-zoomcamp\"\n",
    "                    }\n",
    "                }\n",
    "            }\n",
    "        }\n",
    "    }\n",
    "\n",
    "    response = es_client.search(index=index_name, body=search_query)\n",
    "    \n",
    "    result_docs = []\n",
    "    cnt = 3\n",
    "    for hit in response['hits']['hits']:\n",
    "        if (cnt > 0):\n",
    "            result_docs.append(hit['_source'])\n",
    "            cnt -= 1;\n",
    "        else:\n",
    "            break;\n",
    "    \n",
    "    return result_docs"
   ]
  },
  {
   "cell_type": "code",
   "execution_count": 45,
   "id": "219fd832-d70f-42e8-b7ca-9d85b970f9d5",
   "metadata": {},
   "outputs": [],
   "source": [
    "def elastic_search(query):\n",
    "    search_query = {\n",
    "        \"size\": 5,\n",
    "        \"query\": {\n",
    "            \"bool\": {\n",
    "                \"must\": {\n",
    "                    \"multi_match\": {\n",
    "                        \"query\": query,\n",
    "                        \"fields\": [\"question^4\", \"text\"],\n",
    "                        \"type\": \"best_fields\"\n",
    "                    }\n",
    "                },\n",
    "                \"filter\": {\n",
    "                    \"term\": {\n",
    "                        \"course\": \"machine-learning-zoomcamp\"\n",
    "                    }\n",
    "                }\n",
    "            }\n",
    "        }\n",
    "    }\n",
    "\n",
    "    response = es_client.search(index=index_name, body=search_query)\n",
    "    \n",
    "    result_docs = []\n",
    "    \n",
    "    for hit in response['hits']['hits']:\n",
    "        result_docs.append(hit['_source'])\n",
    "    \n",
    "    return result_docs"
   ]
  },
  {
   "cell_type": "code",
   "execution_count": 46,
   "id": "46d4f86d-1860-490e-8845-28b913fa713e",
   "metadata": {},
   "outputs": [],
   "source": [
    "def build_prompt(query, search_results):\n",
    "    context_template = \"\"\"\n",
    "    Q: {question}\n",
    "    A: {text}\n",
    "    \"\"\".strip()\n",
    "    \n",
    "    prompt_template = \"\"\"\n",
    "    You're a course teaching assistant. Answer the QUESTION based on the CONTEXT from the FAQ database.\n",
    "    Use only the facts from the CONTEXT when answering the QUESTION.\n",
    "    \n",
    "    QUESTION: {question}\n",
    "    \n",
    "    CONTEXT:\n",
    "    {context}\n",
    "    \"\"\".strip()\n",
    "    context = \"\"\n",
    "    \n",
    "    for doc in search_results:\n",
    "        context = context + context_template.format(question = doc['question'], text = doc['text']) + \"\\n\\n\"\n",
    "    prompt = prompt_template.format(question=query, context=context).strip()\n",
    "\n",
    "    return prompt"
   ]
  },
  {
   "cell_type": "code",
   "execution_count": 53,
   "id": "2725449d-612c-498e-b116-ad7f659b2474",
   "metadata": {},
   "outputs": [],
   "source": [
    "q5_response = build_prompt(query, elastic_search_q5(query))"
   ]
  },
  {
   "cell_type": "code",
   "execution_count": 54,
   "id": "38819c64-d02c-40f5-b8d9-8a4aa84f823c",
   "metadata": {},
   "outputs": [
    {
     "data": {
      "text/plain": [
       "1498"
      ]
     },
     "execution_count": 54,
     "metadata": {},
     "output_type": "execute_result"
    }
   ],
   "source": [
    "len(q5_response)"
   ]
  },
  {
   "cell_type": "code",
   "execution_count": 48,
   "id": "97d32b29-67a4-4eb0-a690-957fd7a2757b",
   "metadata": {
    "scrolled": true
   },
   "outputs": [
    {
     "data": {
      "text/plain": [
       "[{'text': 'Launch the container image in interactive mode and overriding the entrypoint, so that it starts a bash command.\\ndocker run -it --entrypoint bash <image>\\nIf the container is already running, execute a command in the specific container:\\ndocker ps (find the container-id)\\ndocker exec -it <container-id> bash\\n(Marcos MJD)',\n",
       "  'section': '5. Deploying Machine Learning Models',\n",
       "  'question': 'How do I debug a docker container?',\n",
       "  'course': 'machine-learning-zoomcamp'},\n",
       " {'text': \"You can copy files from your local machine into a Docker container using the docker cp command. Here's how to do it:\\nTo copy a file or directory from your local machine into a running Docker container, you can use the `docker cp command`. The basic syntax is as follows:\\ndocker cp /path/to/local/file_or_directory container_id:/path/in/container\\nHrithik Kumar Advani\",\n",
       "  'section': '5. Deploying Machine Learning Models',\n",
       "  'question': 'How do I copy files from my local machine to docker container?',\n",
       "  'course': 'machine-learning-zoomcamp'},\n",
       " {'text': 'You can copy files from your local machine into a Docker container using the docker cp command. Here\\'s how to do it:\\nIn the Dockerfile, you can provide the folder containing the files that you want to copy over. The basic syntax is as follows:\\nCOPY [\"src/predict.py\", \"models/xgb_model.bin\", \"./\"]\\t\\t\\t\\t\\t\\t\\t\\t\\t\\t\\tGopakumar Gopinathan',\n",
       "  'section': '5. Deploying Machine Learning Models',\n",
       "  'question': 'How do I copy files from a different folder into docker container’s working directory?',\n",
       "  'course': 'machine-learning-zoomcamp'}]"
      ]
     },
     "execution_count": 48,
     "metadata": {},
     "output_type": "execute_result"
    }
   ],
   "source": [
    "elastic_search_q5(query)"
   ]
  },
  {
   "cell_type": "markdown",
   "id": "eb86139d-13c7-4b60-8119-05beb26d2601",
   "metadata": {},
   "source": [
    "# Q6"
   ]
  },
  {
   "cell_type": "code",
   "execution_count": 49,
   "id": "24f4a7dc-9a72-42a4-9632-4c9a782c6df1",
   "metadata": {},
   "outputs": [
    {
     "name": "stdout",
     "output_type": "stream",
     "text": [
      "Collecting tiktoken\n",
      "  Downloading tiktoken-0.7.0-cp310-cp310-manylinux_2_17_x86_64.manylinux2014_x86_64.whl.metadata (6.6 kB)\n",
      "Collecting regex>=2022.1.18 (from tiktoken)\n",
      "  Downloading regex-2024.5.15-cp310-cp310-manylinux_2_17_x86_64.manylinux2014_x86_64.whl.metadata (40 kB)\n",
      "\u001b[2K     \u001b[38;2;114;156;31m━━━━━━━━━━━━━━━━━━━━━━━━━━━━━━━━━━━━━━━━\u001b[0m \u001b[32m40.9/40.9 kB\u001b[0m \u001b[31m1.1 MB/s\u001b[0m eta \u001b[36m0:00:00\u001b[0m\n",
      "\u001b[?25hRequirement already satisfied: requests>=2.26.0 in /home/codespace/.local/lib/python3.10/site-packages (from tiktoken) (2.32.3)\n",
      "Requirement already satisfied: charset-normalizer<4,>=2 in /home/codespace/.local/lib/python3.10/site-packages (from requests>=2.26.0->tiktoken) (3.3.2)\n",
      "Requirement already satisfied: idna<4,>=2.5 in /home/codespace/.local/lib/python3.10/site-packages (from requests>=2.26.0->tiktoken) (3.7)\n",
      "Requirement already satisfied: urllib3<3,>=1.21.1 in /usr/local/python/3.10.13/lib/python3.10/site-packages (from requests>=2.26.0->tiktoken) (2.0.7)\n",
      "Requirement already satisfied: certifi>=2017.4.17 in /home/codespace/.local/lib/python3.10/site-packages (from requests>=2.26.0->tiktoken) (2024.2.2)\n",
      "Downloading tiktoken-0.7.0-cp310-cp310-manylinux_2_17_x86_64.manylinux2014_x86_64.whl (1.1 MB)\n",
      "\u001b[2K   \u001b[38;2;114;156;31m━━━━━━━━━━━━━━━━━━━━━━━━━━━━━━━━━━━━━━━━\u001b[0m \u001b[32m1.1/1.1 MB\u001b[0m \u001b[31m19.6 MB/s\u001b[0m eta \u001b[36m0:00:00\u001b[0mm eta \u001b[36m0:00:01\u001b[0m\n",
      "\u001b[?25hDownloading regex-2024.5.15-cp310-cp310-manylinux_2_17_x86_64.manylinux2014_x86_64.whl (775 kB)\n",
      "\u001b[2K   \u001b[38;2;114;156;31m━━━━━━━━━━━━━━━━━━━━━━━━━━━━━━━━━━━━━━━━\u001b[0m \u001b[32m775.1/775.1 kB\u001b[0m \u001b[31m17.8 MB/s\u001b[0m eta \u001b[36m0:00:00\u001b[0mm eta \u001b[36m0:00:01\u001b[0m\n",
      "\u001b[?25hInstalling collected packages: regex, tiktoken\n",
      "Successfully installed regex-2024.5.15 tiktoken-0.7.0\n"
     ]
    }
   ],
   "source": [
    "!pip install tiktoken"
   ]
  },
  {
   "cell_type": "code",
   "execution_count": 51,
   "id": "51dcf17b-03a9-4929-bedc-f95639b1356a",
   "metadata": {},
   "outputs": [],
   "source": [
    "import tiktoken"
   ]
  },
  {
   "cell_type": "code",
   "execution_count": 52,
   "id": "f83c7715-279d-48d4-ba60-a083199ea61f",
   "metadata": {},
   "outputs": [],
   "source": [
    "encoding = tiktoken.encoding_for_model(\"gpt-4o\")"
   ]
  },
  {
   "cell_type": "code",
   "execution_count": 61,
   "id": "1daa7085-abc1-47f2-bf9a-b6b249538fca",
   "metadata": {},
   "outputs": [],
   "source": [
    "encoding_list = encoding.encode(text = q5_response)"
   ]
  },
  {
   "cell_type": "code",
   "execution_count": 59,
   "id": "0f3ed8a6-8577-45e9-8d34-d3aa9e6016af",
   "metadata": {},
   "outputs": [
    {
     "data": {
      "text/plain": [
       "331"
      ]
     },
     "execution_count": 59,
     "metadata": {},
     "output_type": "execute_result"
    }
   ],
   "source": [
    "len(encoding.encode(text = q5_response))"
   ]
  },
  {
   "cell_type": "code",
   "execution_count": 62,
   "id": "4dfbf240-44db-4989-8b9b-825fcd9792a7",
   "metadata": {},
   "outputs": [
    {
     "name": "stdout",
     "output_type": "stream",
     "text": [
      "b\"You're\"\n",
      "b' a'\n",
      "b' course'\n",
      "b' teaching'\n",
      "b' assistant'\n",
      "b'.'\n",
      "b' Answer'\n",
      "b' the'\n",
      "b' QUESTION'\n",
      "b' based'\n",
      "b' on'\n",
      "b' the'\n",
      "b' CONT'\n",
      "b'EXT'\n",
      "b' from'\n",
      "b' the'\n",
      "b' FAQ'\n",
      "b' database'\n",
      "b'.\\n'\n",
      "b'   '\n",
      "b' Use'\n",
      "b' only'\n",
      "b' the'\n",
      "b' facts'\n",
      "b' from'\n",
      "b' the'\n",
      "b' CONT'\n",
      "b'EXT'\n",
      "b' when'\n",
      "b' answering'\n",
      "b' the'\n",
      "b' QUESTION'\n",
      "b'.\\n'\n",
      "b'    \\n'\n",
      "b'   '\n",
      "b' QUESTION'\n",
      "b':'\n",
      "b' How'\n",
      "b' do'\n",
      "b' I'\n",
      "b' execute'\n",
      "b' a'\n",
      "b' command'\n",
      "b' in'\n",
      "b' a'\n",
      "b' running'\n",
      "b' docker'\n",
      "b' container'\n",
      "b'?\\n'\n",
      "b'    \\n'\n",
      "b'   '\n",
      "b' CONT'\n",
      "b'EXT'\n",
      "b':\\n'\n",
      "b'   '\n",
      "b' Q'\n",
      "b':'\n",
      "b' How'\n",
      "b' do'\n",
      "b' I'\n",
      "b' debug'\n",
      "b' a'\n",
      "b' docker'\n",
      "b' container'\n",
      "b'?\\n'\n",
      "b'   '\n",
      "b' A'\n",
      "b':'\n",
      "b' Launch'\n",
      "b' the'\n",
      "b' container'\n",
      "b' image'\n",
      "b' in'\n",
      "b' interactive'\n",
      "b' mode'\n",
      "b' and'\n",
      "b' overriding'\n",
      "b' the'\n",
      "b' entry'\n",
      "b'point'\n",
      "b','\n",
      "b' so'\n",
      "b' that'\n",
      "b' it'\n",
      "b' starts'\n",
      "b' a'\n",
      "b' bash'\n",
      "b' command'\n",
      "b'.\\n'\n",
      "b'docker'\n",
      "b' run'\n",
      "b' -'\n",
      "b'it'\n",
      "b' --'\n",
      "b'entry'\n",
      "b'point'\n",
      "b' bash'\n",
      "b' <'\n",
      "b'image'\n",
      "b'>\\n'\n",
      "b'If'\n",
      "b' the'\n",
      "b' container'\n",
      "b' is'\n",
      "b' already'\n",
      "b' running'\n",
      "b','\n",
      "b' execute'\n",
      "b' a'\n",
      "b' command'\n",
      "b' in'\n",
      "b' the'\n",
      "b' specific'\n",
      "b' container'\n",
      "b':\\n'\n",
      "b'docker'\n",
      "b' ps'\n",
      "b' ('\n",
      "b'find'\n",
      "b' the'\n",
      "b' container'\n",
      "b'-id'\n",
      "b')\\n'\n",
      "b'docker'\n",
      "b' exec'\n",
      "b' -'\n",
      "b'it'\n",
      "b' <'\n",
      "b'container'\n",
      "b'-id'\n",
      "b'>'\n",
      "b' bash'\n",
      "b'\\n'\n",
      "b'(M'\n",
      "b'ar'\n",
      "b'cos'\n",
      "b' M'\n",
      "b'JD'\n",
      "b')\\n\\n'\n",
      "b'Q'\n",
      "b':'\n",
      "b' How'\n",
      "b' do'\n",
      "b' I'\n",
      "b' copy'\n",
      "b' files'\n",
      "b' from'\n",
      "b' my'\n",
      "b' local'\n",
      "b' machine'\n",
      "b' to'\n",
      "b' docker'\n",
      "b' container'\n",
      "b'?\\n'\n",
      "b'   '\n",
      "b' A'\n",
      "b':'\n",
      "b' You'\n",
      "b' can'\n",
      "b' copy'\n",
      "b' files'\n",
      "b' from'\n",
      "b' your'\n",
      "b' local'\n",
      "b' machine'\n",
      "b' into'\n",
      "b' a'\n",
      "b' Docker'\n",
      "b' container'\n",
      "b' using'\n",
      "b' the'\n",
      "b' docker'\n",
      "b' cp'\n",
      "b' command'\n",
      "b'.'\n",
      "b\" Here's\"\n",
      "b' how'\n",
      "b' to'\n",
      "b' do'\n",
      "b' it'\n",
      "b':\\n'\n",
      "b'To'\n",
      "b' copy'\n",
      "b' a'\n",
      "b' file'\n",
      "b' or'\n",
      "b' directory'\n",
      "b' from'\n",
      "b' your'\n",
      "b' local'\n",
      "b' machine'\n",
      "b' into'\n",
      "b' a'\n",
      "b' running'\n",
      "b' Docker'\n",
      "b' container'\n",
      "b','\n",
      "b' you'\n",
      "b' can'\n",
      "b' use'\n",
      "b' the'\n",
      "b' `'\n",
      "b'docker'\n",
      "b' cp'\n",
      "b' command'\n",
      "b'`.'\n",
      "b' The'\n",
      "b' basic'\n",
      "b' syntax'\n",
      "b' is'\n",
      "b' as'\n",
      "b' follows'\n",
      "b':\\n'\n",
      "b'docker'\n",
      "b' cp'\n",
      "b' /'\n",
      "b'path'\n",
      "b'/to'\n",
      "b'/local'\n",
      "b'/file'\n",
      "b'_or'\n",
      "b'_directory'\n",
      "b' container'\n",
      "b'_id'\n",
      "b':/'\n",
      "b'path'\n",
      "b'/in'\n",
      "b'/container'\n",
      "b'\\n'\n",
      "b'Hr'\n",
      "b'ith'\n",
      "b'ik'\n",
      "b' Kumar'\n",
      "b' Adv'\n",
      "b'ani'\n",
      "b'\\n\\n'\n",
      "b'Q'\n",
      "b':'\n",
      "b' How'\n",
      "b' do'\n",
      "b' I'\n",
      "b' copy'\n",
      "b' files'\n",
      "b' from'\n",
      "b' a'\n",
      "b' different'\n",
      "b' folder'\n",
      "b' into'\n",
      "b' docker'\n",
      "b' container'\n",
      "b'\\xe2\\x80\\x99s'\n",
      "b' working'\n",
      "b' directory'\n",
      "b'?\\n'\n",
      "b'   '\n",
      "b' A'\n",
      "b':'\n",
      "b' You'\n",
      "b' can'\n",
      "b' copy'\n",
      "b' files'\n",
      "b' from'\n",
      "b' your'\n",
      "b' local'\n",
      "b' machine'\n",
      "b' into'\n",
      "b' a'\n",
      "b' Docker'\n",
      "b' container'\n",
      "b' using'\n",
      "b' the'\n",
      "b' docker'\n",
      "b' cp'\n",
      "b' command'\n",
      "b'.'\n",
      "b\" Here's\"\n",
      "b' how'\n",
      "b' to'\n",
      "b' do'\n",
      "b' it'\n",
      "b':\\n'\n",
      "b'In'\n",
      "b' the'\n",
      "b' Docker'\n",
      "b'file'\n",
      "b','\n",
      "b' you'\n",
      "b' can'\n",
      "b' provide'\n",
      "b' the'\n",
      "b' folder'\n",
      "b' containing'\n",
      "b' the'\n",
      "b' files'\n",
      "b' that'\n",
      "b' you'\n",
      "b' want'\n",
      "b' to'\n",
      "b' copy'\n",
      "b' over'\n",
      "b'.'\n",
      "b' The'\n",
      "b' basic'\n",
      "b' syntax'\n",
      "b' is'\n",
      "b' as'\n",
      "b' follows'\n",
      "b':\\n'\n",
      "b'COPY'\n",
      "b' [\"'\n",
      "b'src'\n",
      "b'/p'\n",
      "b'redict'\n",
      "b'.py'\n",
      "b'\",'\n",
      "b' \"'\n",
      "b'models'\n",
      "b'/x'\n",
      "b'gb'\n",
      "b'_model'\n",
      "b'.bin'\n",
      "b'\",'\n",
      "b' \"./'\n",
      "b'\"]'\n",
      "b'\\t\\t\\t\\t\\t\\t\\t\\t\\t\\t'\n",
      "b'\\tG'\n",
      "b'opak'\n",
      "b'umar'\n",
      "b' G'\n",
      "b'opin'\n",
      "b'athan'\n"
     ]
    }
   ],
   "source": [
    "for encoded in encoding_list:\n",
    "    print(encoding.decode_single_token_bytes(encoded))"
   ]
  },
  {
   "cell_type": "code",
   "execution_count": null,
   "id": "4ccfda49-2c71-44fc-b409-32e5629c54e9",
   "metadata": {},
   "outputs": [],
   "source": []
  }
 ],
 "metadata": {
  "kernelspec": {
   "display_name": "Python 3 (ipykernel)",
   "language": "python",
   "name": "python3"
  },
  "language_info": {
   "codemirror_mode": {
    "name": "ipython",
    "version": 3
   },
   "file_extension": ".py",
   "mimetype": "text/x-python",
   "name": "python",
   "nbconvert_exporter": "python",
   "pygments_lexer": "ipython3",
   "version": "3.10.13"
  }
 },
 "nbformat": 4,
 "nbformat_minor": 5
}
